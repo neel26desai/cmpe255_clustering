{
  "nbformat": 4,
  "nbformat_minor": 0,
  "metadata": {
    "colab": {
      "provenance": [],
      "authorship_tag": "ABX9TyMYOcPTTmPjG4hihWs04Kym",
      "include_colab_link": true
    },
    "kernelspec": {
      "name": "python3",
      "display_name": "Python 3"
    },
    "language_info": {
      "name": "python"
    }
  },
  "cells": [
    {
      "cell_type": "markdown",
      "metadata": {
        "id": "view-in-github",
        "colab_type": "text"
      },
      "source": [
        "<a href=\"https://colab.research.google.com/github/neel26desai/cmpe255_clustering/blob/main/DocumentClustering.ipynb\" target=\"_parent\"><img src=\"https://colab.research.google.com/assets/colab-badge.svg\" alt=\"Open In Colab\"/></a>"
      ]
    },
    {
      "cell_type": "code",
      "execution_count": 13,
      "metadata": {
        "id": "QMRKrnx0B71P"
      },
      "outputs": [],
      "source": [
        "import numpy as np\n",
        "from sklearn.cluster import KMeans\n",
        "from transformers import AutoTokenizer, AutoModel\n",
        "import torch\n"
      ]
    },
    {
      "cell_type": "code",
      "source": [
        "#loading\n",
        "tokenizer = AutoTokenizer.from_pretrained(\"bert-base-uncased\")\n",
        "model = AutoModel.from_pretrained(\"bert-base-uncased\")\n"
      ],
      "metadata": {
        "id": "2Ywx3ZgkCAhM"
      },
      "execution_count": 14,
      "outputs": []
    },
    {
      "cell_type": "code",
      "source": [
        "documents = [\n",
        "    \"The quick brown fox jumps over the lazy dog.\",\n",
        "    \"The cat sat on the mat.\",\n",
        "    \"The dog chased the cat.\",\n",
        "    \"The bird flew in the sky.\",\n",
        "    \"The fish swam in the sea.\",\n",
        "    \"The sun shone brightly.\",\n",
        "    \"The moon glowed softly.\",\n",
        "    \"The stars twinkled in the night sky.\",\n",
        "    \"The wind blew gently.\",\n",
        "    \"The rain fell softly.\",\n",
        "    \"The snow fell heavily.\",\n",
        "    \"The ice was cold and hard.\",\n",
        "    \"The fire was warm and inviting.\",\n",
        "    \"The water was cool and refreshing.\",\n",
        "    \"The air was fresh and clean.\",\n",
        "    \"The earth was green and lush.\",\n",
        "    \"The sky was blue and clear.\",\n",
        "    \"The clouds were white and fluffy.\",\n",
        "    \"The mountains were tall and majestic.\",\n",
        "    \"The valleys were deep and serene.\",\n",
        "    \"The forests were dark and mysterious.\",\n",
        "    \"The deserts were hot and dry.\",\n",
        "    \"The oceans were vast and deep.\",\n",
        "    \"The rivers were long and winding.\",\n",
        "    \"The lakes were still and calm.\",\n",
        "    \"The waterfalls were powerful and majestic.\",\n",
        "    \"The animals were wild and free.\",\n",
        "    \"The plants were green and growing.\",\n",
        "    \"The flowers were colorful and fragrant.\",\n",
        "    \"The trees were tall and strong.\",\n",
        "    \"The houses were big and sturdy.\",\n",
        "    \"The cars were fast and sleek.\",\n",
        "    \"The airplanes were high and fast.\",\n",
        "    \"The boats were big and strong.\",\n",
        "    \"The submarines were deep and mysterious.\",\n",
        "    \"The spaceships were fast and futuristic.\",\n",
        "    \"The robots were strong and helpful.\",\n",
        "    \"The computers were fast and powerful.\",\n",
        "    \"The internet was vast and global.\",\n",
        "    \"The world was big and beautiful.\",\n",
        "    \"The universe was vast and mysterious.\",\n",
        "    \"The future was bright and hopeful.\",\n",
        "    \"The past was dark and mysterious.\",\n",
        "    \"The present is a gift.\",\n",
        "    \"Life is precious.\",\n",
        "    \"Love is beautiful.\",\n",
        "    \"Hope is strong.\",\n",
        "    \"Faith is powerful.\",\n",
        "    \"Peace is precious.\",\n",
        "    \"Freedom is important.\",\n",
        "    \"Justice is blind.\",\n",
        "    \"Truth is eternal.\",\n",
        "    \"Beauty is in the eye of the beholder.\",\n",
        "    \"Love is the answer.\",\n",
        "    \"There is no place like home.\",\n",
        "    \"Home is where the heart is.\",\n",
        "    \"Charity begins at home.\",\n",
        "    \"A bird in the hand is worth two in the bush.\",\n",
        "    \"All that glitters is not gold.\",\n",
        "    \"A stitch in time saves nine.\",\n",
        "    \"A penny saved is a penny earned.\",\n",
        "    \"Two wrongs don't make a right.\",\n",
        "    \"Haste makes waste.\",\n",
        "    \"Look before you leap.\",\n",
        "    \"Easy come, easy go.\",\n",
        "    \"The early bird gets the worm.\",\n",
        "    \"A rolling stone gathers no moss.\",\n",
        "    \"There's no time like the present.\",\n",
        "    \"Make hay while the sun shines.\",\n",
        "    \"All good things must come to an end.\",\n",
        "    \"Every cloud has a silver lining.\",\n",
        "    \"When the going gets tough, the tough get going.\",\n",
        "    \"Necessity is the mother of invention.\",\n",
        "    \"Laughter is the best medicine.\",\n",
        "    \"A friend in need is a friend indeed.\",\n",
        "    \"Blood is thicker than water.\",\n",
        "    \"Home is where the heart is.\",\n",
        "    \"There's no place like home.\",\n",
        "    \"Charity begins at home.\",\n",
        "    \"A bird in the hand is worth two in the bush.\",\n",
        "    \"All that glitters is not gold.\",\n",
        "    \"A stitch in time saves nine.\",\n",
        "    \"A penny saved is a penny earned.\",\n",
        "    \"Two wrongs don't make a right.\",\n",
        "    \"Haste makes waste.\",\n",
        "    \"Look before you leap.\",\n",
        "    \"Easy come, easy go.\",\n",
        "    \"The early bird gets the worm.\",\n",
        "    \"A rolling stone gathers no moss.\",\n",
        "    \"There's no time like the present.\",\n",
        "    \"Make hay while the sun shines.\",\n",
        "    \"All good things must come to an end.\",\n",
        "    \"Every cloud has a silver lining.\",\n",
        "    \"When the going gets tough, the tough get going.\",\n",
        "    \"Necessity is the mother of invention.\",\n",
        "    \"Laughter is the best medicine.\",\n",
        "    \"A friend in need is a friend indeed.\",\n",
        "    \"Blood is thicker than water.\",\n",
        "]\n"
      ],
      "metadata": {
        "id": "ZdSmQYv9CG0m"
      },
      "execution_count": 15,
      "outputs": []
    },
    {
      "cell_type": "code",
      "source": [
        "def get_embedding(text):\n",
        "    inputs = tokenizer(text, return_tensors=\"pt\", padding=True, truncation=True, max_length=512)\n",
        "    outputs = model(**inputs)\n",
        "    return outputs.last_hidden_state.mean(dim=1).detach().numpy()\n",
        "\n",
        "embeddings = np.array([get_embedding(doc) for doc in documents])\n"
      ],
      "metadata": {
        "id": "5qUp1U_HpHfO"
      },
      "execution_count": 16,
      "outputs": []
    },
    {
      "cell_type": "code",
      "source": [
        "embeddings"
      ],
      "metadata": {
        "colab": {
          "base_uri": "https://localhost:8080/"
        },
        "id": "5wpXSPZt7UxS",
        "outputId": "8c6c0a06-5e07-4b0e-98ca-98445d56b7c4"
      },
      "execution_count": 36,
      "outputs": [
        {
          "output_type": "execute_result",
          "data": {
            "text/plain": [
              "array([[[-0.0144665 , -0.07488798,  0.05636835, ..., -0.2625465 ,\n",
              "          0.49536896,  0.07398007]],\n",
              "\n",
              "       [[-0.18180333, -0.26617852, -0.2188662 , ..., -0.1475547 ,\n",
              "          0.4014612 , -0.03504107]],\n",
              "\n",
              "       [[ 0.03199036, -0.12704226, -0.15073356, ..., -0.29676077,\n",
              "          0.51143605,  0.07649407]],\n",
              "\n",
              "       ...,\n",
              "\n",
              "       [[ 0.21586642,  0.12286804,  0.0689448 , ...,  0.09936311,\n",
              "          0.19486126,  0.08864466]],\n",
              "\n",
              "       [[-0.22105937,  0.05188395,  0.23734316, ..., -0.00104124,\n",
              "         -0.33271602,  0.3125489 ]],\n",
              "\n",
              "       [[ 0.4472755 , -0.13830869,  0.09058813, ..., -0.08995704,\n",
              "         -0.12312365,  0.34946948]]], dtype=float32)"
            ]
          },
          "metadata": {},
          "execution_count": 36
        }
      ]
    },
    {
      "cell_type": "code",
      "source": [
        "from sklearn.cluster import DBSCAN"
      ],
      "metadata": {
        "id": "gGPfmLXD4urT"
      },
      "execution_count": 17,
      "outputs": []
    },
    {
      "cell_type": "code",
      "source": [
        "# Calculate sum of squared distances for k=1 to k=10\n",
        "kmeans_clusers =[]\n",
        "sum_of_squared_distances = []\n",
        "K = range(1, 11)\n",
        "for k in K:\n",
        "    km = KMeans(n_clusters=k)\n",
        "    km = km.fit(embeddings.squeeze())\n",
        "    kmeans_clusers.append(km)\n",
        "    sum_of_squared_distances.append(km.inertia_)\n"
      ],
      "metadata": {
        "colab": {
          "base_uri": "https://localhost:8080/"
        },
        "id": "eFNGKFPPpdNv",
        "outputId": "02c9b238-c3f9-444f-d6e4-b05b51aea2ff"
      },
      "execution_count": 31,
      "outputs": [
        {
          "output_type": "stream",
          "name": "stderr",
          "text": [
            "/usr/local/lib/python3.10/dist-packages/sklearn/cluster/_kmeans.py:870: FutureWarning: The default value of `n_init` will change from 10 to 'auto' in 1.4. Set the value of `n_init` explicitly to suppress the warning\n",
            "  warnings.warn(\n",
            "/usr/local/lib/python3.10/dist-packages/sklearn/cluster/_kmeans.py:870: FutureWarning: The default value of `n_init` will change from 10 to 'auto' in 1.4. Set the value of `n_init` explicitly to suppress the warning\n",
            "  warnings.warn(\n",
            "/usr/local/lib/python3.10/dist-packages/sklearn/cluster/_kmeans.py:870: FutureWarning: The default value of `n_init` will change from 10 to 'auto' in 1.4. Set the value of `n_init` explicitly to suppress the warning\n",
            "  warnings.warn(\n",
            "/usr/local/lib/python3.10/dist-packages/sklearn/cluster/_kmeans.py:870: FutureWarning: The default value of `n_init` will change from 10 to 'auto' in 1.4. Set the value of `n_init` explicitly to suppress the warning\n",
            "  warnings.warn(\n",
            "/usr/local/lib/python3.10/dist-packages/sklearn/cluster/_kmeans.py:870: FutureWarning: The default value of `n_init` will change from 10 to 'auto' in 1.4. Set the value of `n_init` explicitly to suppress the warning\n",
            "  warnings.warn(\n",
            "/usr/local/lib/python3.10/dist-packages/sklearn/cluster/_kmeans.py:870: FutureWarning: The default value of `n_init` will change from 10 to 'auto' in 1.4. Set the value of `n_init` explicitly to suppress the warning\n",
            "  warnings.warn(\n",
            "/usr/local/lib/python3.10/dist-packages/sklearn/cluster/_kmeans.py:870: FutureWarning: The default value of `n_init` will change from 10 to 'auto' in 1.4. Set the value of `n_init` explicitly to suppress the warning\n",
            "  warnings.warn(\n",
            "/usr/local/lib/python3.10/dist-packages/sklearn/cluster/_kmeans.py:870: FutureWarning: The default value of `n_init` will change from 10 to 'auto' in 1.4. Set the value of `n_init` explicitly to suppress the warning\n",
            "  warnings.warn(\n",
            "/usr/local/lib/python3.10/dist-packages/sklearn/cluster/_kmeans.py:870: FutureWarning: The default value of `n_init` will change from 10 to 'auto' in 1.4. Set the value of `n_init` explicitly to suppress the warning\n",
            "  warnings.warn(\n",
            "/usr/local/lib/python3.10/dist-packages/sklearn/cluster/_kmeans.py:870: FutureWarning: The default value of `n_init` will change from 10 to 'auto' in 1.4. Set the value of `n_init` explicitly to suppress the warning\n",
            "  warnings.warn(\n"
          ]
        }
      ]
    },
    {
      "cell_type": "code",
      "source": [
        "plt.plot(K, sum_of_squared_distances, 'bx-')\n",
        "plt.xlabel('k')\n",
        "plt.ylabel('Sum of squared distances')\n",
        "plt.title('Elbow Method For Optimal k')\n",
        "plt.show()\n"
      ],
      "metadata": {
        "colab": {
          "base_uri": "https://localhost:8080/",
          "height": 472
        },
        "id": "8BUwkOGB6muS",
        "outputId": "749b5c9f-3496-4a6f-f505-948890bf49af"
      },
      "execution_count": 32,
      "outputs": [
        {
          "output_type": "display_data",
          "data": {
            "text/plain": [
              "<Figure size 640x480 with 1 Axes>"
            ],
            "image/png": "[encoded data removed]"
          },
          "metadata": {}
        }
      ]
    },
    {
      "cell_type": "markdown",
      "source": [
        "lets use cluster where number of clusters is equal to 6"
      ],
      "metadata": {
        "id": "8D5iDBWj6zMN"
      }
    },
    {
      "cell_type": "code",
      "source": [
        "from sklearn.decomposition import PCA"
      ],
      "metadata": {
        "id": "jWvwlhudpo2o"
      },
      "execution_count": 8,
      "outputs": []
    },
    {
      "cell_type": "code",
      "source": [
        "from matplotlib import pyplot as plt"
      ],
      "metadata": {
        "id": "pvaUimEkpv23"
      },
      "execution_count": 11,
      "outputs": []
    },
    {
      "cell_type": "code",
      "source": [
        "pca = PCA(n_components=2)\n",
        "reduced_embeddings = pca.fit_transform(embeddings.squeeze())\n"
      ],
      "metadata": {
        "id": "Ytams62YpjlX"
      },
      "execution_count": 20,
      "outputs": []
    },
    {
      "cell_type": "code",
      "source": [
        "clusters = kmeans_clusers[5].predict(embeddings.squeeze())"
      ],
      "metadata": {
        "id": "G7D0WURu7D6x"
      },
      "execution_count": 34,
      "outputs": []
    },
    {
      "cell_type": "code",
      "source": [
        "plt.figure(figsize=(10, 8))\n",
        "for i in range(6):\n",
        "    plt.scatter(reduced_embeddings[clusters == i, 0], reduced_embeddings[clusters == i, 1], label=f\"Cluster {i}\")\n",
        "plt.title(\"Document Clusters\")\n",
        "plt.legend()\n",
        "plt.show()\n"
      ],
      "metadata": {
        "colab": {
          "base_uri": "https://localhost:8080/",
          "height": 699
        },
        "id": "sc-U6fE_pmL-",
        "outputId": "ea154d84-4021-40b9-8344-a762e013a8b3"
      },
      "execution_count": 35,
      "outputs": [
        {
          "output_type": "display_data",
          "data": {
            "text/plain": [
              "<Figure size 1000x800 with 1 Axes>"
            ],
            "image/png": "[encoded data removed]"
          },
          "metadata": {}
        }
      ]
    },
    {
      "cell_type": "code",
      "source": [
        "type(embeddings)"
      ],
      "metadata": {
        "colab": {
          "base_uri": "https://localhost:8080/"
        },
        "id": "Cjbz5Vza7ytY",
        "outputId": "72c3b296-bef2-4789-c1e1-8dd00a02c6d6"
      },
      "execution_count": 38,
      "outputs": [
        {
          "output_type": "execute_result",
          "data": {
            "text/plain": [
              "numpy.ndarray"
            ]
          },
          "metadata": {},
          "execution_count": 38
        }
      ]
    },
    {
      "cell_type": "code",
      "source": [
        "from sklearn import metrics\n",
        "\n",
        "\n",
        "\n",
        "silhouette = metrics.silhouette_score(embeddings.squeeze(), clusters)\n",
        "calinski_harabasz = metrics.calinski_harabasz_score(embeddings.squeeze(), clusters)\n",
        "davies_bouldin = metrics.davies_bouldin_score(embeddings.squeeze(), clusters)\n",
        "\n",
        "# Silhouette Coefficient\n",
        "print(f\"Silhouette Coefficient: {silhouette:.3f}\")\n",
        "\n",
        "# Calinski-Harabasz Index\n",
        "print(f\"Calinski-Harabasz Index: {calinski_harabasz:.3f}\")\n",
        "\n",
        "# Davies-Bouldin Index\n",
        "print(f\"Davies-Bouldin Index: {davies_bouldin:.3f}\")\n",
        "\n"
      ],
      "metadata": {
        "colab": {
          "base_uri": "https://localhost:8080/"
        },
        "id": "zPBL8I7fpuM9",
        "outputId": "db9c3ad6-83fa-4b06-9ef2-ddfeaa877597"
      },
      "execution_count": 40,
      "outputs": [
        {
          "output_type": "stream",
          "name": "stdout",
          "text": [
            "Silhouette Coefficient: 0.151\n",
            "Calinski-Harabasz Index: 8.501\n",
            "Davies-Bouldin Index: 2.005\n"
          ]
        }
      ]
    },
    {
      "cell_type": "code",
      "source": [],
      "metadata": {
        "id": "SNNxzqKm78Oh"
      },
      "execution_count": null,
      "outputs": []
    }
  ]
}